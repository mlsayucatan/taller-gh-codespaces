{
  "nbformat": 4,
  "nbformat_minor": 0,
  "metadata": {
    "colab": {
      "provenance": [],
      "authorship_tag": "ABX9TyMIWmDllb1J/LNH7dttugAs",
      "include_colab_link": true
    },
    "kernelspec": {
      "name": "python3",
      "display_name": "Python 3"
    },
    "language_info": {
      "name": "python"
    }
  },
  "cells": [
    {
      "cell_type": "markdown",
      "metadata": {
        "id": "view-in-github",
        "colab_type": "text"
      },
      "source": [
        "<a href=\"https://colab.research.google.com/github/jona866/taller-python-codespaces/blob/main/Notebooks/Ejercicios.ipynb\" target=\"_parent\"><img src=\"https://colab.research.google.com/assets/colab-badge.svg\" alt=\"Open In Colab\"/></a>"
      ]
    },
    {
      "cell_type": "markdown",
      "source": [
        "# Primeros Pasos con Python y GitHub Codespaces\n",
        "## Ejercicios de práctica"
      ],
      "metadata": {
        "id": "nINAdMRwDgwv"
      }
    },
    {
      "cell_type": "markdown",
      "source": [
        "## Variables y tipos de datos"
      ],
      "metadata": {
        "id": "nB9QzXxaDx58"
      }
    },
    {
      "cell_type": "code",
      "execution_count": null,
      "metadata": {
        "id": "GmEm2nccDSyN"
      },
      "outputs": [],
      "source": [
        "# Crea una variable llamada edad y asigna un valor\n",
        "\n",
        "# Crea una variable llamada nombre y asigna un valor\n",
        "\n",
        "# Crea una variable llamada dolar_pesosmx y asignale el precio del dolar en pesos mexicanos\n",
        "\n",
        "# Imprime todas las variables\n"
      ]
    },
    {
      "cell_type": "code",
      "source": [
        "# Utilizando la variables del ejercicio anterior, determina el tipo de dato que contiene cada una\n",
        "# Nota: la función type() nos da información del tipo de dato que contine una variable\n"
      ],
      "metadata": {
        "id": "TcZymcKVai15"
      },
      "execution_count": null,
      "outputs": []
    },
    {
      "cell_type": "markdown",
      "source": [
        "## Operaciones básicas"
      ],
      "metadata": {
        "id": "7Avrtv3sFDuR"
      }
    },
    {
      "cell_type": "code",
      "source": [
        "# Cree un programa que calcule el área de un círculo\n"
      ],
      "metadata": {
        "id": "7QzgcgviFGOE"
      },
      "execution_count": null,
      "outputs": []
    },
    {
      "cell_type": "code",
      "source": [
        "# Cree un programa que calcule la hipotenusa de un triángulo rectángulo\n"
      ],
      "metadata": {
        "id": "ErmkBtoTc_mg"
      },
      "execution_count": null,
      "outputs": []
    },
    {
      "cell_type": "code",
      "source": [
        "# Completa el código\n",
        "# Sustituye las comillas por el operador relacional que corresponde\n",
        "if 5 \"\" 10:\n",
        "  print(\"5 y 10 son diferentes\")"
      ],
      "metadata": {
        "colab": {
          "base_uri": "https://localhost:8080/"
        },
        "id": "lmCSYvm-dNBx",
        "outputId": "5dd0c93e-dd3e-457a-b684-444962713d80"
      },
      "execution_count": null,
      "outputs": [
        {
          "output_type": "stream",
          "name": "stdout",
          "text": [
            "5 and 10 is not equal\n"
          ]
        }
      ]
    },
    {
      "cell_type": "code",
      "source": [
        "# Cree un programa que suma la edad de cuatro personas\n",
        "# Al finalizar debe imprimir la edad de cada persona\n",
        "# y la suma total de las cuatro edades\n"
      ],
      "metadata": {
        "id": "lx7577euef4j"
      },
      "execution_count": null,
      "outputs": []
    },
    {
      "cell_type": "markdown",
      "source": [
        "## Estructuras de control"
      ],
      "metadata": {
        "id": "OV5IyyPjD1XS"
      }
    },
    {
      "cell_type": "code",
      "source": [
        "# Cree un programa que evalúe el desempeño de un estudiante en función de su calificación final\n",
        "# Si la calificación es 10, entonces su desempeño es Sobresaliente\n",
        "# Si la calificación es 9, entonces su desempeño es Muy bueno\n",
        "# Si la calificación es 8, entonces su desempeño es Bueno\n",
        "# Si la calificación es 7, entonces su desempeño es Satisfactorio\n",
        "# Si la calificación es menor a 7, envía el mensaje No acreditada\n"
      ],
      "metadata": {
        "id": "LzmAbs2uD5qo"
      },
      "execution_count": null,
      "outputs": []
    },
    {
      "cell_type": "code",
      "source": [
        "# Cree un programa que sume todos los números enteros del 1 al 30\n"
      ],
      "metadata": {
        "id": "xnHqN3q7gzgT"
      },
      "execution_count": null,
      "outputs": []
    },
    {
      "cell_type": "code",
      "source": [
        "# Cree un programa que imprima todos los números pares del 1 al 100\n"
      ],
      "metadata": {
        "id": "S0ytm66mhCEs"
      },
      "execution_count": null,
      "outputs": []
    }
  ]
}