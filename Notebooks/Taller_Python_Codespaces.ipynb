{
  "nbformat": 4,
  "nbformat_minor": 0,
  "metadata": {
    "colab": {
      "provenance": []
    },
    "kernelspec": {
      "name": "python3",
      "display_name": "Python 3"
    },
    "language_info": {
      "name": "python"
    }
  },
  "cells": [
    {
      "cell_type": "markdown",
      "source": [
        "# Primeros Pasos con Python y GitHub Codespaces\n",
        "\n",
        "Python es un lenguaje de alto nivel interpretado ampliamente utilizado en las aplicaciones web, el desarrollo de software, la ciencia de datos y el machine learning. Es muy sencillo de comprender aún si no se tiene experiencia por su alta similitud con el idioma inglés.\n"
      ],
      "metadata": {
        "id": "J3lc5fQwDI98"
      }
    },
    {
      "cell_type": "markdown",
      "source": [
        "# Variables y tipos de datos\n",
        "\n",
        "Las variables son los elementos que permiten guardar información, reservan una ubicación de memoria asignada por el intérprete.\n"
      ],
      "metadata": {
        "id": "GvI9Edra6zl3"
      }
    },
    {
      "cell_type": "markdown",
      "source": [
        "## Declaración de variables\n",
        "\n",
        "1.   Escoge el nombre de la variable: `altura`\n",
        "2.   Escribe el símbolo de igualdad `=`\n",
        "3.   Escribe el dato a guardar `2`\n",
        "\n",
        "```\n",
        "altura = 5\n",
        "```\n",
        "\n",
        "Puedes realizar declaraciones múltiples separando los nombres de variables y valores por una coma `,`.\n",
        "\n",
        "```\n",
        "base_mayor, base_menor = 3,2\n",
        "```\n",
        "No es necesario escribir el tipo de variable con la que se desea trabajar."
      ],
      "metadata": {
        "id": "BWEkjI_u73Fq"
      }
    },
    {
      "cell_type": "markdown",
      "source": [
        "**Ejemplo.** Almacena en variables las dimensiones de un trapecio. Calcule su área.\n"
      ],
      "metadata": {
        "id": "3MjpS7tiKFop"
      }
    },
    {
      "cell_type": "code",
      "execution_count": null,
      "metadata": {
        "id": "L--QiWN7DCtd",
        "colab": {
          "base_uri": "https://localhost:8080/"
        },
        "outputId": "8cac953f-90e7-488e-8ff5-bd8b6074c39d"
      },
      "outputs": [
        {
          "output_type": "stream",
          "name": "stdout",
          "text": [
            "70.0 u^2\n"
          ]
        }
      ],
      "source": [
        "base_mayor, base_menor, altura = 5,7,4\n",
        "area = base_mayor * base_menor * altura / 2\n",
        "print(str(area) + \" u^2\")"
      ]
    },
    {
      "cell_type": "markdown",
      "source": [
        "## Tipos de datos\n",
        "\n",
        "Los tipos de datos básicos.\n",
        "\n",
        "| Variable | Descripción | Ejemplo | \n",
        "| --- | --- | --- | \n",
        "| **Entero** |  número sin decimal | ``dias_en_semana = 7`` |\n",
        "| **Flontante** | número con decimal | ``precio_gasolina = 23.98`` |\n",
        "| **Complejo** | parte real y parte imaginaria | ``raiz = -3.5 + 1j`` |\n",
        "| **Booleano** | uno de dos valores |``True`` o ``False`` |\n",
        "| **Cadenas** | secuencia de caracteres | ``mi_nombre = 'Student Ambassadors'``|\n",
        "\n",
        "\n",
        "Para conocer el tipo de una variable podemos utilizar la función `type()`."
      ],
      "metadata": {
        "id": "rcceBU407uXW"
      }
    },
    {
      "cell_type": "markdown",
      "source": [
        "**Ejercicio.** Juguemos un poco con las variables. Declara una variable para almacenar tu nombre e imprime un saludo personalizado."
      ],
      "metadata": {
        "id": "yXAWy25wafOj"
      }
    },
    {
      "cell_type": "code",
      "source": [
        "nombre = input(\"Ingresa tu nombre:\")\n",
        "print(\"Hola \" + nombre + \", bienvenido\")"
      ],
      "metadata": {
        "colab": {
          "base_uri": "https://localhost:8080/"
        },
        "id": "kPEy4dqRaofY",
        "outputId": "024fe6c0-ce0e-4d90-83aa-e110a7204f63"
      },
      "execution_count": null,
      "outputs": [
        {
          "output_type": "stream",
          "name": "stdout",
          "text": [
            "Ingresa tu nombre:Karime\n",
            "Hola Karime, bienvenido\n"
          ]
        }
      ]
    },
    {
      "cell_type": "markdown",
      "source": [
        "# Operaciones básicas\n",
        "\n",
        "Existen diversos tipos de operadores en Python, los más comúnes son:\n",
        "\n"
      ],
      "metadata": {
        "id": "RSytyZn68ky1"
      }
    },
    {
      "cell_type": "markdown",
      "source": [
        "## Operadores aritméticos\n",
        "Generalmente son aplicados a los tipos numéricos. Los operadores de suma y multiplicación también se emplean para concatenar y repetir elementos en una cadena.\n",
        "\n",
        "| Nombre | Operador | Ejemplo | Resultado | \n",
        "| --- | --- | --- | --- | \n",
        "| **Suma** | + |  2 + 3 | 5 |\n",
        "| **Resta** | -| 5 - 8 |3 |\n",
        "| **Multiplicación** | * | \"Si\" * 3 | \"SiSiSi\" |\n",
        "| **Potencia** | **  |2 ** 5| 32 |\n",
        "| **División** | / | 1 / 4| 0.25 |\n",
        "| **Cociente entero** | // | 4 // 3 | 1 |\n",
        "| **Módulo** | % | 9 % 2 | 1|"
      ],
      "metadata": {
        "id": "bs2k2oJbAhb0"
      }
    },
    {
      "cell_type": "markdown",
      "source": [
        "**Ejercicio.** A Josué le gustan mucho los chocolates y quiere saber cuántos puede comprar con el dinero que tiene en sus bolsillos. Desarrolla un pequeño código que cuente su dinero si tiene monedas de 0.50, 1, 2, 5, 10 pesos e ingresando el precio de los chocolates."
      ],
      "metadata": {
        "id": "Y5Q-v-lfbzb1"
      }
    },
    {
      "cell_type": "code",
      "source": [
        "peso05 = float(input(\"Ingrese la cantidad de monedas de $0.5: \"))\n",
        "peso1 = float(input(\"Ingrese la cantidad de monedas de $1: \"))\n",
        "peso2 = float(input(\"Ingrese la cantidad de monedas de $2: \"))\n",
        "peso5 = float(input(\"Ingrese la cantidad de monedas de $5: \"))\n",
        "peso10 = float(input(\"Ingrese la cantidad de monedas de $10: \"))\n",
        "\n",
        "total = 0.5 * peso05\n",
        "total = total + peso1\n",
        "total = total + 2 * peso2\n",
        "total = total + 5 * peso5\n",
        "total = total + 10 * peso10\n",
        "\n",
        "print(\"Total: $\" + str(total))\n",
        "precio = float(input(\"Ingrese el precio de 1 chocolate: \"))\n",
        "\n",
        "chocolates = int(total // precio)\n",
        "print(\"Puedes comprar: \" + str(chocolates))\n"
      ],
      "metadata": {
        "colab": {
          "base_uri": "https://localhost:8080/"
        },
        "id": "_A2MHIPvcvxB",
        "outputId": "47545a3a-3a24-4935-fba9-2e73194bf4e1"
      },
      "execution_count": 2,
      "outputs": [
        {
          "output_type": "stream",
          "name": "stdout",
          "text": [
            "Ingrese la cantidad de monedas de $0.5: 1\n",
            "Ingrese la cantidad de monedas de $1: 1\n",
            "Ingrese la cantidad de monedas de $2: 1\n",
            "Ingrese la cantidad de monedas de $5: 1\n",
            "Ingrese la cantidad de monedas de $10: 1\n",
            "Total: $18.5\n",
            "Ingrese el precio de 1 chocolate: 5\n",
            "Puedes comprar: 3\n"
          ]
        }
      ]
    },
    {
      "cell_type": "markdown",
      "source": [
        "## Operadores relacionales\n",
        "\n",
        "Comparan datos numéricos o cadenas. Las cadenas se comparan caracter por caracter y alfabéticamente.\n",
        "\n",
        "| Operador | Descripción | Ejemplo | Resultado |\n",
        "| --- | --- | --- | --- |\n",
        "| == | Igual | \"rojo\" == \"Rojo\" | False |\n",
        "| != | Diferente | \"rojo\" == \"Rojo\" | True |\n",
        "| < | Menor que | \"arboleda\" < \"cedro\" | True |\n",
        "| > | Mayor que | \"pino\" > \"cedro\" | True |\n",
        "| <= | Menor o igual que | \"abeto\" <= \"cedro\" | True |\n",
        "| >= | Mayor o igual que | \"pino\" >= \"caoba\" | True |\n"
      ],
      "metadata": {
        "id": "oH5mx02cDgWP"
      }
    },
    {
      "cell_type": "markdown",
      "source": [
        "**Ejercicio.** En la siguiente celda práctica la sintaxis libremente de forma que los resultados sean:\n",
        "\n",
        "\n",
        "```\n",
        "False\n",
        "False\n",
        "True\n",
        "True\n",
        "False\n",
        "True\n",
        "```\n",
        "\n"
      ],
      "metadata": {
        "id": "j1zwChc_fGHW"
      }
    },
    {
      "cell_type": "code",
      "source": [
        "print(10 < 1)\n",
        "print(5 != 5)\n",
        "print(2 == 2)\n",
        "print(80 > 9)\n",
        "print(0.5 >= 3.7)\n",
        "print(0.5 <= 3.7)"
      ],
      "metadata": {
        "colab": {
          "base_uri": "https://localhost:8080/"
        },
        "id": "RzRn1hGhLsOO",
        "outputId": "5c485084-17ee-417f-b8b2-5123a952c9a9"
      },
      "execution_count": null,
      "outputs": [
        {
          "output_type": "stream",
          "name": "stdout",
          "text": [
            "False\n",
            "False\n",
            "True\n",
            "True\n",
            "False\n",
            "True\n"
          ]
        }
      ]
    },
    {
      "cell_type": "markdown",
      "source": [
        "## Operadores lógicos\n",
        "Se emplean con las variables booleandas y dan como resultado True o False.\n",
        "\n",
        "| Operador | Ejemplo | Resultado |\n",
        "| --- | --- | --- |\n",
        "| and  | True and False | False |\n",
        "| or | True or false  | True |\n",
        "| not | not True | False |"
      ],
      "metadata": {
        "id": "kFa-d19TE7tC"
      }
    },
    {
      "cell_type": "code",
      "source": [
        "8 < 9 and 10 < 1"
      ],
      "metadata": {
        "colab": {
          "base_uri": "https://localhost:8080/"
        },
        "id": "UQb3PKq3LYZl",
        "outputId": "33c456ed-f3ea-4d84-c01f-3d21472f685c"
      },
      "execution_count": null,
      "outputs": [
        {
          "output_type": "execute_result",
          "data": {
            "text/plain": [
              "True"
            ]
          },
          "metadata": {},
          "execution_count": 3
        }
      ]
    },
    {
      "cell_type": "code",
      "source": [
        "8 < 9 or 10 < 1"
      ],
      "metadata": {
        "colab": {
          "base_uri": "https://localhost:8080/"
        },
        "id": "e-PYmiXCMnsj",
        "outputId": "f5da8b21-f574-4ac9-fbb1-2e4cf853010e"
      },
      "execution_count": null,
      "outputs": [
        {
          "output_type": "execute_result",
          "data": {
            "text/plain": [
              "True"
            ]
          },
          "metadata": {},
          "execution_count": 5
        }
      ]
    },
    {
      "cell_type": "code",
      "source": [
        "not 10 < 1"
      ],
      "metadata": {
        "colab": {
          "base_uri": "https://localhost:8080/"
        },
        "id": "VcQwrLEeMpsq",
        "outputId": "fbd8e7c0-94d8-4a7d-f8ab-14b575d44957"
      },
      "execution_count": null,
      "outputs": [
        {
          "output_type": "execute_result",
          "data": {
            "text/plain": [
              "True"
            ]
          },
          "metadata": {},
          "execution_count": 6
        }
      ]
    },
    {
      "cell_type": "markdown",
      "source": [
        "## Operadores de asignación\n",
        "\n",
        "El operador para asignar valores a una variable es ``=``.\n",
        "Los operadores para sobreescribir el valor de una variable son los siguientes:\n",
        "\n",
        "|Operador | Ejemplo | Resultado |\n",
        "| --- | --- | ---|\n",
        "| = | ancho = 3 | Declaración de la variable ``ancho``|\n",
        "| += | cont += 1 | cont = cont + 1|\n",
        "| -= | cont -= 1 | cont = cont - 1|\n",
        "| *= | X *= 2 | X = X * 2 |\n",
        "| **= | X **= 2 | X = X ** 2 |\n",
        "| /= | X /= 2 | X = X / 2 |\n",
        "| //= | X //= 2 | X = X // 2 |\n",
        "| %= | X %= 2 | X = X % 2 |"
      ],
      "metadata": {
        "id": "h7qtDy3tFXWx"
      }
    },
    {
      "cell_type": "markdown",
      "source": [
        "**Ejercicio.** Supongamos que queremos hacer un contador de saltos, de forma que cada que ejecutemos la celda, incremente en 1 el contador. ¿Cómo lo resolverías?"
      ],
      "metadata": {
        "id": "xpJt4sLCMvFR"
      }
    },
    {
      "cell_type": "code",
      "source": [
        "cont = 0\n",
        "cont += 1\n",
        "print(cont)"
      ],
      "metadata": {
        "colab": {
          "base_uri": "https://localhost:8080/"
        },
        "id": "63ahuJS6M-ka",
        "outputId": "f734c644-3733-4341-dac0-4a0448557832"
      },
      "execution_count": null,
      "outputs": [
        {
          "output_type": "stream",
          "name": "stdout",
          "text": [
            "5\n"
          ]
        }
      ]
    },
    {
      "cell_type": "markdown",
      "source": [
        "# Funciones básicas\n",
        "\n",
        "`input(cadena)`: Imprime un mensaje y espera respuesta por teclado.\n",
        "\n",
        "`print(cadena)`: Imprime la cadena.\n",
        "\n",
        "`len(cadena)`: Permite saber la longitud de una cadena.\n",
        "\n"
      ],
      "metadata": {
        "id": "_YzrSqN1-14i"
      }
    },
    {
      "cell_type": "markdown",
      "source": [
        "**Ejercicio.** ¿Qué tan largo es tu nombre?"
      ],
      "metadata": {
        "id": "vYI12QsEf6l1"
      }
    },
    {
      "cell_type": "code",
      "source": [
        "nombre = input(\"Ingresa tu nombre:\")\n",
        "print(str(len(nombre)) + \" caracteres\")\n",
        "len(nombre)"
      ],
      "metadata": {
        "colab": {
          "base_uri": "https://localhost:8080/"
        },
        "id": "RwhfCLehgCLJ",
        "outputId": "51184365-583e-4fd2-9720-88db1d4d1455"
      },
      "execution_count": null,
      "outputs": [
        {
          "output_type": "stream",
          "name": "stdout",
          "text": [
            "Ingresa tu nombre:karime\n",
            "6 caracteres\n"
          ]
        },
        {
          "output_type": "execute_result",
          "data": {
            "text/plain": [
              "6"
            ]
          },
          "metadata": {},
          "execution_count": 35
        }
      ]
    },
    {
      "cell_type": "markdown",
      "source": [
        "# Estructuras de control\n",
        "\n",
        "Las estructuras de control son el conjunto de reglas que permiten controlar el flujo de ejecución de las instrucciones de un algoritmo o de un programa."
      ],
      "metadata": {
        "id": "kvo_Qe5l8pb0"
      }
    },
    {
      "cell_type": "markdown",
      "source": [
        "## Estructuras condicionales\n",
        "- `if`: Nos ayuda a decirle al programa que decisión tomar con base a un valor dado.\n",
        "\n",
        "``` python\n",
        "if Condicion:\n",
        "  Instruccion\n",
        "```\n",
        "\n",
        "- `else`: usamos esta función para indicarle al programa que hacer en cualquier otro caso en el que nuestra condición de la función **if** sea falsa.\n",
        "\n",
        "``` python\n",
        "if Condicion_1 :\n",
        "  Instruccion_1\n",
        "else:\n",
        "  Instruccion_2\n",
        "```\n",
        "\n",
        "- `elif`: Utilizamos esta función cuando requerimos validar varia condiciones.\n",
        "\n",
        "``` python\n",
        "if Condicion_1:\n",
        "  Instruccion_1\n",
        "elif Condicion_2:\n",
        "  Instruccion_2\n",
        "elif Condicion_3:\n",
        "  Instruccion_3\n",
        "... # Podemos añadir tantas elif como sean necesarias\n",
        "# Es posible añadir un else a la condicional.\n",
        "else:\n",
        "  Instruccion\n",
        "```"
      ],
      "metadata": {
        "id": "EBvB4Lby33ja"
      }
    },
    {
      "cell_type": "markdown",
      "source": [
        "La principal diferencia entre **elif** y **else** es que la función **elif** son casos particulares de la condición a evaluar y la función **else** es un caso general."
      ],
      "metadata": {
        "id": "4Op-Yo-l8DTF"
      }
    },
    {
      "cell_type": "markdown",
      "source": [
        "**Ejercicio**. Un programa que lea un número y diga si es par o impar."
      ],
      "metadata": {
        "id": "LSP8S4AhJMNe"
      }
    },
    {
      "cell_type": "code",
      "source": [
        "n = int(input(\"Introduce un numero: \"))\n",
        "if n % 2 == 0:\n",
        "  print(\"Es par\")\n",
        "else:\n",
        "  print(\"Es impar\")"
      ],
      "metadata": {
        "id": "QcZdqp9JJYpz"
      },
      "execution_count": null,
      "outputs": []
    },
    {
      "cell_type": "markdown",
      "source": [
        "## Estructuras de iteración\n",
        "- `for`: Nos sirve para repetir instrucciones, una cantidad finita de veces.\n",
        "\n",
        "``` python\n",
        "for Variable in range(#):\n",
        "  Instruccion\n",
        "```\n",
        "- `while`: Si tenemos una condición con valor verdadero entonces se ejecuta las instrucciones, si la condición sigue siendo verdadera se vuelven a ejecutar las instrucciones, siguiendo este procedimiento hasta que la condición sea falsa o, en su defecto, nunca se termina de ejecutar.\n",
        "\n",
        "``` python\n",
        "while Condicion:\n",
        "  Instruccion\n",
        "```\n"
      ],
      "metadata": {
        "id": "4x6MJWBW4LX0"
      }
    },
    {
      "cell_type": "markdown",
      "source": [
        "- **Break**: Un ciclo for y while puede terminar de forma inmediatamente si utilizamos esta instrucción.\n",
        "\n",
        "- **Continue**: Supongamos que bajo cierta condición no queremos que el bucle siga trabajando en la iteracion actual y avance a la siguiente, para esto usamos dicha instruccion."
      ],
      "metadata": {
        "id": "LJV08aFZ-SWB"
      }
    },
    {
      "cell_type": "markdown",
      "source": [
        "**Ejercicio**. Un programa que imprima los números del 1 al 10.\n"
      ],
      "metadata": {
        "id": "1TNGxBUmJd__"
      }
    },
    {
      "cell_type": "code",
      "source": [
        "# Usando un for.\n",
        "for i in range(1, 11):\n",
        "  print(i)"
      ],
      "metadata": {
        "id": "1DTxwWCgJm8T"
      },
      "execution_count": null,
      "outputs": []
    },
    {
      "cell_type": "code",
      "source": [
        "# Usando un while.\n",
        "i = 1\n",
        "while i < 11:\n",
        "  print(i)"
      ],
      "metadata": {
        "id": "spvGcPYaJqLT"
      },
      "execution_count": null,
      "outputs": []
    },
    {
      "cell_type": "markdown",
      "source": [
        "# Estructuras de datos\n",
        "\n",
        "\n",
        "*   **Tupla**. Secuencias de datos de distintos tipos u otras tuplas. *El contenido no puede cambiar*, es decir, no puedes añadir, reemplazar, reasignar o eliminar ningún elemento. Las tuplas utilizan paréntesis `()` y se separan los elementos con comas `,`. Por ejemplo:\n",
        "\n",
        "```\n",
        "mi_tupla = (0,1,2,3)\n",
        "```\n",
        "\n",
        "\n",
        "*   **Lista**. Secuencias que agrupan datos de distintos tipos u otras listas. Las listas son mutables, es decir, se puede añadir, eliminar, mover elementos.Las listas utilizan corechetes `[]` y se separan los elementos con comas `,`. Por ejemplo:\n",
        "\n",
        "```\n",
        "mi_lista = [2,4,6,8]\n",
        "```\n",
        "El orden en que se crean los elementos es inmutable y cada término tiene un identificador único comenzando por el cero.\n",
        "\n",
        "\n",
        "Para acceder a un elemento de una tupla/lista se utilizan los corchetes `[]` y se indica la posición, por ejemplo:\n",
        "\n",
        "\n",
        "```\n",
        "# Accede al primer elemento de la lista\n",
        "mi_lista[0]\n",
        "```\n",
        "\n",
        "\n"
      ],
      "metadata": {
        "id": "mWL-LE4eHHUy"
      }
    },
    {
      "cell_type": "code",
      "source": [
        "mi_lista = [2,4,6,8]\n",
        "#Acceder al primer elemento:\n",
        "mi_lista[0]"
      ],
      "metadata": {
        "colab": {
          "base_uri": "https://localhost:8080/"
        },
        "id": "O6ZRB_LGiJeu",
        "outputId": "47d89903-b35d-4956-f416-e64bb1a756ed"
      },
      "execution_count": null,
      "outputs": [
        {
          "output_type": "execute_result",
          "data": {
            "text/plain": [
              "2"
            ]
          },
          "metadata": {},
          "execution_count": 36
        }
      ]
    },
    {
      "cell_type": "markdown",
      "source": [
        "**Ejercicio**. La suma de los elementos de una lista."
      ],
      "metadata": {
        "id": "jFAwCoiAJu6H"
      }
    },
    {
      "cell_type": "code",
      "source": [
        "suma = 0\n",
        "lista = [1, 2, 3, 4, 5]\n",
        "for i in range(0, len(lista)):\n",
        "  suma += lista[i]\n",
        "print(suma)"
      ],
      "metadata": {
        "id": "DLyewAYaJuLT"
      },
      "execution_count": null,
      "outputs": []
    },
    {
      "cell_type": "code",
      "source": [
        "# Tambien es valido.\n",
        "suma = 0\n",
        "lista = [1, 2, 3, 4, 5]\n",
        "for x in lista:\n",
        "  suma += x\n",
        "print(suma)"
      ],
      "metadata": {
        "id": "bCMMN7HPJ1FO"
      },
      "execution_count": null,
      "outputs": []
    }
  ]
}