{
  "nbformat": 4,
  "nbformat_minor": 0,
  "metadata": {
    "colab": {
      "provenance": [],
      "include_colab_link": true
    },
    "kernelspec": {
      "name": "python3",
      "display_name": "Python 3"
    },
    "language_info": {
      "name": "python"
    }
  },
  "cells": [
    {
      "cell_type": "markdown",
      "metadata": {
        "id": "view-in-github",
        "colab_type": "text"
      },
      "source": [
        "<a href=\"https://colab.research.google.com/github/jona866/taller-python-codespaces/blob/main/Notebooks/Taller_Python_Codespaces.ipynb\" target=\"_parent\"><img src=\"https://colab.research.google.com/assets/colab-badge.svg\" alt=\"Open In Colab\"/></a>"
      ]
    },
    {
      "cell_type": "markdown",
      "source": [
        "# Primeros Pasos con Python y GitHub Codespaces\n",
        "\n",
        "Python es un lenguaje de alto nivel interpretado ampliamente utilizado en las aplicaciones web, el desarrollo de software, la ciencia de datos y el machine learning. Es muy sencillo de comprender aún si no se tiene experiencia por su alta similitud con el idioma inglés.\n"
      ],
      "metadata": {
        "id": "J3lc5fQwDI98"
      }
    },
    {
      "cell_type": "markdown",
      "source": [
        "# Variables y tipos de datos\n",
        "\n",
        "Las variables son los elementos que permiten guardar información, reservan una ubicación de memoria asignada por el intérprete.\n"
      ],
      "metadata": {
        "id": "GvI9Edra6zl3"
      }
    },
    {
      "cell_type": "markdown",
      "source": [
        "## Declaración de variables\n",
        "\n",
        "1.   Escoge el nombre de la variable: `altura`\n",
        "2.   Escribe el símbolo de igualdad `=`\n",
        "3.   Escribe el dato a guardar `2`\n",
        "\n",
        "```\n",
        "altura = 5\n",
        "```\n",
        "\n",
        "Puedes realizar declaraciones múltiples separando los nombres de variables y valores por una coma `,`.\n",
        "\n",
        "```\n",
        "base_mayor, base_menor = 3,2\n",
        "```\n",
        "No es necesario escribir el tipo de variable con la que se desea trabajar."
      ],
      "metadata": {
        "id": "BWEkjI_u73Fq"
      }
    },
    {
      "cell_type": "markdown",
      "source": [
        "**Ejemplo 1.** Almacena en variables las dimensiones de un trapecio. Calcule su área\n"
      ],
      "metadata": {
        "id": "3MjpS7tiKFop"
      }
    },
    {
      "cell_type": "code",
      "execution_count": null,
      "metadata": {
        "id": "L--QiWN7DCtd",
        "colab": {
          "base_uri": "https://localhost:8080/"
        },
        "outputId": "0ad38fa1-7f51-481e-f128-a73e88b9ad43"
      },
      "outputs": [
        {
          "output_type": "execute_result",
          "data": {
            "text/plain": [
              "70.0"
            ]
          },
          "metadata": {},
          "execution_count": 5
        }
      ],
      "source": [
        "base_mayor, base_menor, altura = 5,7,4\n",
        "area = base_mayor * base_menor * altura / 2\n",
        "area"
      ]
    },
    {
      "cell_type": "markdown",
      "source": [
        "## Tipos de datos\n",
        "\n",
        "Los tipos de datos básicos.\n",
        "\n",
        "| Variable | Descripción | Ejemplo | \n",
        "| --- | --- | --- | \n",
        "| **Entero** |  número sin decimal | ``dias_en_semana = 7`` |\n",
        "| **Flontante** | número con decimal | ``precio_gasolina = 23.98`` |\n",
        "| **Complejo** | parte real y parte imaginaria | ``raiz = -3.5 + 1j`` |\n",
        "| **Booleano** | uno de dos valores |``True`` o ``False`` |\n",
        "| **Cadenas** | secuencia de caracteres | ``mi_nombre = 'Student Ambassadors'``|\n",
        "\n",
        "\n",
        "Para conocer el tipo de una variable podemos utilizar la función `type()`."
      ],
      "metadata": {
        "id": "rcceBU407uXW"
      }
    },
    {
      "cell_type": "markdown",
      "source": [
        "# Operaciones básicas\n",
        "\n",
        "Existen diversos tipos de operadores en Python, los más comúnes son:\n",
        "\n"
      ],
      "metadata": {
        "id": "RSytyZn68ky1"
      }
    },
    {
      "cell_type": "markdown",
      "source": [
        "## Operadores aritméticos\n",
        "Generalmente son aplicados a los tipos numéricos. Los operadores de suma y multiplicación también se emplean para concatenar y repetir elementos en una cadena.\n",
        "\n",
        "| Nombre | Operador | Ejemplo | Resultado | \n",
        "| --- | --- | --- | --- | \n",
        "| **Suma** | + |  2 + 3 | 5 |\n",
        "| **Resta** | -| 5 - 8 |3 |\n",
        "| **Multiplicación** | * | \"Si\" * 3 | \"SiSiSi\" |\n",
        "| **Potencia** | **  |2 ** 5| 32 |\n",
        "| **División** | / | 1 / 4| 0.25 |\n",
        "| **Cociente entero** | // | 4 // 3 | 1 |\n",
        "| **Módulo** | % | 9 % 2 | 1|"
      ],
      "metadata": {
        "id": "bs2k2oJbAhb0"
      }
    },
    {
      "cell_type": "markdown",
      "source": [
        "## Operadores relacionales\n",
        "\n",
        "Comparan datos numéricos o cadenas. Las cadenas se comparan caracter por caracter y alfabéticamente.\n",
        "\n",
        "| Operador | Descripción | Ejemplo | Resultado |\n",
        "| --- | --- | --- | --- |\n",
        "| == | Igual | \"rojo\" == \"Rojo\" | False |\n",
        "| != | Diferente | \"rojo\" == \"Rojo\" | True |\n",
        "| < | Menor que | \"arboleda\" < \"cedro\" | True |\n",
        "| > | Mayor que | \"pino\" > \"cedro\" | True |\n",
        "| <= | Menor o igual que | \"abeto\" <= \"cedro\" | True |\n",
        "| >= | Mayor o igual que | \"pino\" >= \"caoba\" | True |\n"
      ],
      "metadata": {
        "id": "oH5mx02cDgWP"
      }
    },
    {
      "cell_type": "markdown",
      "source": [
        "## Operadores lógicos\n",
        "Se emplean con las variables booleandas y dan como resultado True o False.\n",
        "\n",
        "| Operador | Ejemplo | Resultado |\n",
        "| --- | --- | --- |\n",
        "| and  | True and False | False |\n",
        "| or | True or false  | True |\n",
        "| not | not True | False |"
      ],
      "metadata": {
        "id": "kFa-d19TE7tC"
      }
    },
    {
      "cell_type": "markdown",
      "source": [
        "## Operadores de asignación\n",
        "\n",
        "El operador para asignar valores a una variable es ``=``.\n",
        "Los operadores para sobreescribir el valor de una variable son los siguientes:\n",
        "\n",
        "|Operador | Ejemplo | Resultado |\n",
        "| --- | --- | ---|\n",
        "| = | ancho = 3 | Declaración de la variable ``ancho``|\n",
        "| += | cont += 1 | cont = cont + 1|\n",
        "| -= | cont -= 1 | cont = cont - 1|\n",
        "| *= | X *= 2 | X = X * 2 |\n",
        "| **= | X **= 2 | X = X ** 2 |\n",
        "| /= | X /= 2 | X = X / 2 |\n",
        "| //= | X //= 2 | X = X // 2 |\n",
        "| %= | X %= 2 | X = X % 2 |"
      ],
      "metadata": {
        "id": "h7qtDy3tFXWx"
      }
    },
    {
      "cell_type": "markdown",
      "source": [
        "# Funciones básicas\n",
        "\n",
        "`input(cadena)`: Imprime un mensaje y espera respuesta por teclado.\n",
        "\n",
        "`print(cadena)`: Imprime la cadena.\n",
        "\n",
        "`len(cadena)`: Permite saber la longitud de una cadena.\n",
        "\n"
      ],
      "metadata": {
        "id": "_YzrSqN1-14i"
      }
    },
    {
      "cell_type": "markdown",
      "source": [
        "# Estructuras de control\n",
        "\n",
        "Las estructuras de control son el conjunto de reglas que permiten controlar el flujo de ejecución de las instrucciones de un algoritmo o de un programa."
      ],
      "metadata": {
        "id": "kvo_Qe5l8pb0"
      }
    },
    {
      "cell_type": "markdown",
      "source": [
        "## Estructuras condicionales\n",
        "- `if`: Nos ayuda a decirle al programa que decisión tomar con base a un valor dado.\n",
        "\n",
        "``` python\n",
        "if Condicion:\n",
        "  Instruccion\n",
        "```\n",
        "\n",
        "- `else`: usamos esta función para indicarle al programa que hacer en cualquier otro caso en el que nuestra condición de la función **if** sea falsa.\n",
        "\n",
        "``` python\n",
        "if Condicion_1 :\n",
        "  Instruccion_1\n",
        "else:\n",
        "  Instruccion_2\n",
        "```\n",
        "\n",
        "- `elif`: Utilizamos esta función cuando requerimos validar varia condiciones.\n",
        "\n",
        "``` python\n",
        "if Condicion_1:\n",
        "  Instruccion_1\n",
        "elif Condicion_2:\n",
        "  Instruccion_2\n",
        "elif Condicion_3:\n",
        "  Instruccion_3\n",
        "... # Podemos añadir tantas elif como sean necesarias\n",
        "# Es posible añadir un else a la condicional.\n",
        "else:\n",
        "  Instruccion\n",
        "```"
      ],
      "metadata": {
        "id": "EBvB4Lby33ja"
      }
    },
    {
      "cell_type": "markdown",
      "source": [
        "La principal diferencia entre **elif** y **else** es que la función **elif** son casos particulares de la condición a evaluar y la función **else** es un caso general."
      ],
      "metadata": {
        "id": "4Op-Yo-l8DTF"
      }
    },
    {
      "cell_type": "markdown",
      "source": [
        "**Ejercicio**. Un programa que lea un número y diga si es par o impar."
      ],
      "metadata": {
        "id": "LSP8S4AhJMNe"
      }
    },
    {
      "cell_type": "code",
      "source": [
        "n = int(input(\"Introduce un numero: \"))\n",
        "if n % 2 == 0:\n",
        "  print(\"Es par\")\n",
        "else:\n",
        "  print(\"Es impar\")"
      ],
      "metadata": {
        "id": "QcZdqp9JJYpz"
      },
      "execution_count": null,
      "outputs": []
    },
    {
      "cell_type": "markdown",
      "source": [
        "## Estructuras de iteración\n",
        "- `for`: Nos sirve para repetir instrucciones, una cantidad finita de veces.\n",
        "\n",
        "``` python\n",
        "for Variable in range(#):\n",
        "  Instruccion\n",
        "```\n",
        "- `while`: Si tenemos una condición con valor verdadero entonces se ejecuta las instrucciones, si la condición sigue siendo verdadera se vuelven a ejecutar las instrucciones, siguiendo este procedimiento hasta que la condición sea falsa o, en su defecto, nunca se termina de ejecutar.\n",
        "\n",
        "``` python\n",
        "while Condicion:\n",
        "  Instruccion\n",
        "```\n"
      ],
      "metadata": {
        "id": "4x6MJWBW4LX0"
      }
    },
    {
      "cell_type": "markdown",
      "source": [
        "- **Break**: Un ciclo for y while puede terminar de forma inmediatamente si utilizamos esta instrucción.\n",
        "\n",
        "- **Continue**: Supongamos que bajo cierta condición no queremos que el bucle siga trabajando en la iteracion actual y avance a la siguiente, para esto usamos dicha instruccion."
      ],
      "metadata": {
        "id": "LJV08aFZ-SWB"
      }
    },
    {
      "cell_type": "markdown",
      "source": [
        "**Ejercicio**. Un programa que imprima los números del 1 al 10.\n"
      ],
      "metadata": {
        "id": "1TNGxBUmJd__"
      }
    },
    {
      "cell_type": "code",
      "source": [
        "# Usando un for.\n",
        "for i in range(1, 11):\n",
        "  print(i)"
      ],
      "metadata": {
        "id": "1DTxwWCgJm8T"
      },
      "execution_count": null,
      "outputs": []
    },
    {
      "cell_type": "code",
      "source": [
        "# Usando un while.\n",
        "i = 1\n",
        "while i < 11:\n",
        "  print(i)"
      ],
      "metadata": {
        "id": "spvGcPYaJqLT"
      },
      "execution_count": null,
      "outputs": []
    },
    {
      "cell_type": "markdown",
      "source": [
        "# Estructuras de datos\n",
        "\n",
        "\n",
        "*   **Tupla**. Secuencias de datos de distintos tipos u otras tuplas.\n",
        "*   **Lista**. Secuencias que agrupan datos de distintos tipos u otras listas.\n",
        "\n"
      ],
      "metadata": {
        "id": "mWL-LE4eHHUy"
      }
    },
    {
      "cell_type": "markdown",
      "source": [
        "**Ejercicio**. La suma de los elementos de una lista."
      ],
      "metadata": {
        "id": "jFAwCoiAJu6H"
      }
    },
    {
      "cell_type": "code",
      "source": [
        "suma = 0\n",
        "lista = [1, 2, 3, 4, 5]\n",
        "for i in range(0, len(lista)):\n",
        "  suma += lista[i]\n",
        "print(suma)"
      ],
      "metadata": {
        "id": "DLyewAYaJuLT"
      },
      "execution_count": null,
      "outputs": []
    },
    {
      "cell_type": "code",
      "source": [
        "# Tambien es valido.\n",
        "suma = 0\n",
        "lista = [1, 2, 3, 4, 5]\n",
        "for x in lista:\n",
        "  suma += x\n",
        "print(suma)"
      ],
      "metadata": {
        "id": "bCMMN7HPJ1FO"
      },
      "execution_count": null,
      "outputs": []
    }
  ]
}